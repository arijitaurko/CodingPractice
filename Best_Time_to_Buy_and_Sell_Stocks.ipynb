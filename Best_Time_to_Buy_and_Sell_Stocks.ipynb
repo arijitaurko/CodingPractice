{
 "cells": [
  {
   "cell_type": "markdown",
   "metadata": {},
   "source": [
    "Say you have an array, A, for which the ith element is the price of a given stock on day i.\n",
    "\n",
    "Design an algorithm to find the maximum profit. You may complete at most 2 transactions.\n",
    "\n",
    "Return the maximum possible profit.\n",
    "\n",
    "Note: You may not engage in multiple transactions at the same time (ie, you must sell the stock before you buy again).\n",
    "\n",
    "\n",
    "\n",
    "Input Format:\n",
    "\n",
    "The first and the only argument is an integer array, A.\n",
    "Output Format:\n",
    "\n",
    "Return an integer, representing the maximum possible profit.\n",
    "Constraints:\n",
    "\n",
    "1 <= length(A) <= 7e5\n",
    "1 <= A[i] <= 1e7\n",
    "Examples:\n",
    "\n",
    "Input 1:\n",
    "    A = [1, 2, 1, 2]\n",
    "\n",
    "Output 1:\n",
    "    2\n",
    "\n",
    "Explanation 1: \n",
    "    Day 0 : Buy \n",
    "    Day 1 : Sell\n",
    "    Day 2 : Buy\n",
    "    Day 3 : Sell\n",
    "\n",
    "Input 2:\n",
    "    A = [7, 2, 4, 8, 7]\n",
    "\n",
    "Output 2:\n",
    "    6\n",
    "\n",
    "Explanation 2:\n",
    "    Day 1 : Buy\n",
    "    Day 3 : Sell"
   ]
  },
  {
   "cell_type": "code",
   "execution_count": 2,
   "metadata": {},
   "outputs": [],
   "source": [
    "class Solution:\n",
    "    # @param A : tuple of integers\n",
    "    # @return an integer\n",
    "    def maxProfit(self, A):\n",
    "        if len(A) <= 1:\n",
    "            return 0\n",
    "\n",
    "        maxes = [0] * len(A)\n",
    "\n",
    "        ma = A[-1]\n",
    "        for i in range(len(maxes) - 2, -1, -1):\n",
    "            ma = max(A[i], ma)\n",
    "            maxes[i] = max(maxes[i + 1], ma - A[i])\n",
    "\n",
    "        mi = A[0]\n",
    "        for i in range(1, len(maxes) - 1):\n",
    "            mi = min(mi, A[i])\n",
    "            maxes[i] = max(maxes[i - 1], A[i] - mi + maxes[i + 1])\n",
    "\n",
    "        return maxes[-2]"
   ]
  },
  {
   "cell_type": "code",
   "execution_count": null,
   "metadata": {},
   "outputs": [],
   "source": []
  }
 ],
 "metadata": {
  "kernelspec": {
   "display_name": "Python 3",
   "language": "python",
   "name": "python3"
  },
  "language_info": {
   "codemirror_mode": {
    "name": "ipython",
    "version": 3
   },
   "file_extension": ".py",
   "mimetype": "text/x-python",
   "name": "python",
   "nbconvert_exporter": "python",
   "pygments_lexer": "ipython3",
   "version": "3.8.1"
  }
 },
 "nbformat": 4,
 "nbformat_minor": 4
}
