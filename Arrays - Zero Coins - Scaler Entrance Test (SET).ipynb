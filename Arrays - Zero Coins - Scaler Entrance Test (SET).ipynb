{
 "cells": [
  {
   "cell_type": "code",
   "execution_count": 12,
   "metadata": {},
   "outputs": [],
   "source": [
    "import numpy as np"
   ]
  },
  {
   "cell_type": "code",
   "execution_count": 14,
   "metadata": {},
   "outputs": [],
   "source": [
    "A = [3, 1, 4, 2]\n",
    "B = [2, 4, 3]\n",
    "\n",
    "N = len(A)\n",
    "\n",
    "divisorB = []\n",
    "countZero = 0\n",
    "countZeroArray = []\n",
    "\n",
    "for i in range(len(B)):\n",
    "    for j in range(int(np.sqrt(N))):\n",
    "        if(B[i] % (j+1) == 0):\n",
    "            divisorB.append(j)\n",
    "    #print(divisorB)\n",
    "    for k in range(len(A)):\n",
    "        if(k in divisorB):\n",
    "            A[k] -= 1\n",
    "        if(A[k] == 0):\n",
    "            countZero += 1\n",
    "    countZeroArray.append(countZero)\n",
    "    divisorB.clear()      "
   ]
  },
  {
   "cell_type": "code",
   "execution_count": 15,
   "metadata": {},
   "outputs": [
    {
     "name": "stdout",
     "output_type": "stream",
     "text": [
      "[1, 1, 2]\n"
     ]
    }
   ],
   "source": [
    "print(countZeroArray)"
   ]
  },
  {
   "cell_type": "code",
   "execution_count": null,
   "metadata": {},
   "outputs": [],
   "source": []
  }
 ],
 "metadata": {
  "kernelspec": {
   "display_name": "Python 3",
   "language": "python",
   "name": "python3"
  },
  "language_info": {
   "codemirror_mode": {
    "name": "ipython",
    "version": 3
   },
   "file_extension": ".py",
   "mimetype": "text/x-python",
   "name": "python",
   "nbconvert_exporter": "python",
   "pygments_lexer": "ipython3",
   "version": "3.8.1"
  }
 },
 "nbformat": 4,
 "nbformat_minor": 4
}
